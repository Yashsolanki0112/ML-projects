{
  "nbformat": 4,
  "nbformat_minor": 0,
  "metadata": {
    "colab": {
      "provenance": [],
      "mount_file_id": "1aALUTMI0EZilKamVEc_mx2PC_rq7w1x1",
      "authorship_tag": "ABX9TyMbL3KtxInHaN59silWHbUv",
      "include_colab_link": true
    },
    "kernelspec": {
      "name": "python3",
      "display_name": "Python 3"
    },
    "language_info": {
      "name": "python"
    }
  },
  "cells": [
    {
      "cell_type": "markdown",
      "metadata": {
        "id": "view-in-github",
        "colab_type": "text"
      },
      "source": [
        "<a href=\"https://colab.research.google.com/github/Yashsolanki0112/ML-projects/blob/main/deep_learning__pepper_bell.ipynb\" target=\"_parent\"><img src=\"https://colab.research.google.com/assets/colab-badge.svg\" alt=\"Open In Colab\"/></a>"
      ]
    },
    {
      "cell_type": "code",
      "execution_count": null,
      "metadata": {
        "colab": {
          "base_uri": "https://localhost:8080/"
        },
        "id": "zf-t8jA_Z8wh",
        "outputId": "b18dfbc9-9ba5-4ee1-e35b-b75e1ed02aee"
      },
      "outputs": [
        {
          "output_type": "stream",
          "name": "stdout",
          "text": [
            "Drive already mounted at /content/drive; to attempt to forcibly remount, call drive.mount(\"/content/drive\", force_remount=True).\n"
          ]
        }
      ],
      "source": [
        "from google.colab import drive\n",
        "drive.mount('/content/drive')"
      ]
    },
    {
      "cell_type": "markdown",
      "source": [
        "# New section"
      ],
      "metadata": {
        "id": "ILDQ0Ka1f3EZ"
      }
    },
    {
      "cell_type": "code",
      "source": [
        "dataset_folder = \"/content/drive/MyDrive/pepper_bell_data\"\n"
      ],
      "metadata": {
        "id": "1JE0_rDsfVKh"
      },
      "execution_count": null,
      "outputs": []
    },
    {
      "cell_type": "code",
      "source": [
        "import os\n",
        "\n",
        "# List contents of the dataset folder\n",
        "os.listdir(dataset_folder)"
      ],
      "metadata": {
        "colab": {
          "base_uri": "https://localhost:8080/"
        },
        "id": "2C35fQeJfVNC",
        "outputId": "f219de8e-71db-4439-e439-12b1a915bdb3"
      },
      "execution_count": null,
      "outputs": [
        {
          "output_type": "execute_result",
          "data": {
            "text/plain": [
              "['Pepper__bell___Bacterial_spot', 'Pepper__bell___healthy']"
            ]
          },
          "metadata": {},
          "execution_count": 3
        }
      ]
    },
    {
      "cell_type": "code",
      "source": [
        "from sklearn.model_selection import train_test_split\n",
        "# Function to load images and labels from the dataset folder\n",
        "def load_dataset(folder_path):\n",
        "    image_paths = []\n",
        "    labels = []\n",
        "\n",
        "    # Iterate over each class folder\n",
        "    for class_folder in os.listdir(folder_path):\n",
        "        class_folder_path = os.path.join(folder_path, class_folder)\n",
        "        if os.path.isdir(class_folder_path):\n",
        "            # Iterate over each image in the class folder\n",
        "            for image_file in os.listdir(class_folder_path):\n",
        "                image_path = os.path.join(class_folder_path, image_file)\n",
        "                image_paths.append(image_path)\n",
        "                labels.append(class_folder)  # Assuming folder name represents class name\n",
        "\n",
        "    return image_paths, labels\n",
        "\n",
        "# Load dataset\n",
        "image_paths, labels = load_dataset(dataset_folder)\n",
        "\n",
        "# Split dataset into training and testing sets\n",
        "train_image_paths, test_image_paths, train_labels, test_labels = train_test_split(\n",
        "    image_paths, labels, test_size=0.2, random_state=42\n",
        ")\n",
        "\n",
        "# Print some information about the dataset\n",
        "print(\"Total number of images:\", len(image_paths))\n",
        "print(\"Number of training images:\", len(train_image_paths))\n",
        "print(\"Number of testing images:\", len(test_image_paths))\n",
        "\n",
        "# Now you have your training and testing data ready for further processing\n"
      ],
      "metadata": {
        "colab": {
          "base_uri": "https://localhost:8080/"
        },
        "id": "eZ8v4_JhfVQO",
        "outputId": "41b65adb-62fb-4c7f-e577-efeae496a415"
      },
      "execution_count": null,
      "outputs": [
        {
          "output_type": "stream",
          "name": "stdout",
          "text": [
            "Total number of images: 2475\n",
            "Number of training images: 1980\n",
            "Number of testing images: 495\n"
          ]
        }
      ]
    },
    {
      "cell_type": "code",
      "source": [
        "from PIL import Image\n",
        "\n",
        "# Open an image\n",
        "image = Image.open(\"/content/drive/MyDrive/pepper_bell_data/Pepper__bell___Bacterial_spot/0022d6b7-d47c-4ee2-ae9a-392a53f48647___JR_B.Spot 8964.JPG\")\n",
        "\n",
        "# Get dimensions\n",
        "width, height = image.size\n",
        "\n",
        "# Get number of channels\n",
        "num_channels = len(image.getbands())\n",
        "\n",
        "print(\"Image dimensions:\", width, \"x\", height)\n",
        "print(\"Number of channels:\", num_channels)\n",
        "\n"
      ],
      "metadata": {
        "colab": {
          "base_uri": "https://localhost:8080/"
        },
        "id": "dgWMCNnoiuMO",
        "outputId": "f5ae6a49-e051-4fb1-f923-3031622712d4"
      },
      "execution_count": null,
      "outputs": [
        {
          "output_type": "stream",
          "name": "stdout",
          "text": [
            "Image dimensions: 256 x 256\n",
            "Number of channels: 3\n"
          ]
        }
      ]
    },
    {
      "cell_type": "code",
      "source": [
        "\n",
        "# Get list of class names (folder names)\n",
        "class_names = os.listdir(dataset_folder)\n",
        "\n",
        "# Count unique classes\n",
        "num_classes = len(class_names)\n",
        "\n",
        "print(\"Number of unique classes:\", num_classes)\n"
      ],
      "metadata": {
        "colab": {
          "base_uri": "https://localhost:8080/"
        },
        "id": "e_ygXfdOjtsn",
        "outputId": "f22bc1ce-cb93-4114-feb7-0f6537fc3ada"
      },
      "execution_count": null,
      "outputs": [
        {
          "output_type": "stream",
          "name": "stdout",
          "text": [
            "Number of unique classes: 2\n"
          ]
        }
      ]
    },
    {
      "cell_type": "code",
      "source": [
        "import tensorflow as tf\n",
        "from tensorflow.keras import layers, models\n",
        "\n",
        "# Define the CNN model\n",
        "def create_model(input_shape, num_classes):\n",
        "    model = models.Sequential([\n",
        "        layers.Conv2D(32, (3, 3), activation='relu', input_shape=input_shape),\n",
        "        layers.MaxPooling2D((2, 2)),\n",
        "        layers.Conv2D(64, (3, 3), activation='relu'),\n",
        "        layers.MaxPooling2D((2, 2)),\n",
        "        layers.Conv2D(64, (3, 3), activation='relu'),\n",
        "        layers.Flatten(),\n",
        "        layers.Dense(64, activation='relu'),\n",
        "        layers.Dense(num_classes, activation='softmax')\n",
        "    ])\n",
        "    return model\n",
        "\n",
        "# Define input shape and number of classes\n",
        "input_shape = (256, 256, 3)  # Update with your image dimensions\n",
        "num_classes = 2  # Update with the number of unique classes in your dataset\n",
        "\n",
        "# Create the model\n",
        "model = create_model(input_shape, num_classes)\n",
        "\n",
        "# Compile the model\n",
        "model.compile(optimizer='adam',\n",
        "              loss='sparse_categorical_crossentropy',\n",
        "              metrics=['accuracy'])\n",
        "\n",
        "# Display the model architecture\n",
        "model.summary()"
      ],
      "metadata": {
        "colab": {
          "base_uri": "https://localhost:8080/"
        },
        "id": "KoiAwbwKhfSx",
        "outputId": "38e75be6-3893-42f1-deb3-e9782b23e5f9"
      },
      "execution_count": null,
      "outputs": [
        {
          "output_type": "stream",
          "name": "stdout",
          "text": [
            "Model: \"sequential\"\n",
            "_________________________________________________________________\n",
            " Layer (type)                Output Shape              Param #   \n",
            "=================================================================\n",
            " conv2d (Conv2D)             (None, 254, 254, 32)      896       \n",
            "                                                                 \n",
            " max_pooling2d (MaxPooling2  (None, 127, 127, 32)      0         \n",
            " D)                                                              \n",
            "                                                                 \n",
            " conv2d_1 (Conv2D)           (None, 125, 125, 64)      18496     \n",
            "                                                                 \n",
            " max_pooling2d_1 (MaxPoolin  (None, 62, 62, 64)        0         \n",
            " g2D)                                                            \n",
            "                                                                 \n",
            " conv2d_2 (Conv2D)           (None, 60, 60, 64)        36928     \n",
            "                                                                 \n",
            " flatten (Flatten)           (None, 230400)            0         \n",
            "                                                                 \n",
            " dense (Dense)               (None, 64)                14745664  \n",
            "                                                                 \n",
            " dense_1 (Dense)             (None, 2)                 130       \n",
            "                                                                 \n",
            "=================================================================\n",
            "Total params: 14802114 (56.47 MB)\n",
            "Trainable params: 14802114 (56.47 MB)\n",
            "Non-trainable params: 0 (0.00 Byte)\n",
            "_________________________________________________________________\n"
          ]
        }
      ]
    },
    {
      "cell_type": "code",
      "source": [
        "import pandas as pd\n",
        "\n",
        "# Create DataFrames for training and testing data\n",
        "train_df = pd.DataFrame({'image_path': train_image_paths, 'label': train_labels})\n",
        "test_df = pd.DataFrame({'image_path': test_image_paths, 'label': test_labels})\n"
      ],
      "metadata": {
        "id": "8I5U6yMAnRgt"
      },
      "execution_count": null,
      "outputs": []
    },
    {
      "cell_type": "code",
      "source": [
        "# Define batch size and number of epochs\n",
        "batch_size = 32\n",
        "epochs = 5\n",
        "\n",
        "# Create data generators\n",
        "train_datagen = tf.keras.preprocessing.image.ImageDataGenerator(rescale=1./255)\n",
        "test_datagen = tf.keras.preprocessing.image.ImageDataGenerator(rescale=1./255)\n",
        "\n",
        "# Define the ImageDataGenerator with rescaling\n",
        "train_datagen = tf.keras.preprocessing.image.ImageDataGenerator(\n",
        "    rescale=1./255\n",
        ")\n",
        "\n",
        "test_datagen = tf.keras.preprocessing.image.ImageDataGenerator(\n",
        "    rescale=1./255\n",
        ")\n",
        "\n",
        "# Create data generators for training and testing\n",
        "train_generator = train_datagen.flow_from_dataframe(\n",
        "    dataframe=train_df,  # DataFrame containing paths and labels for training images\n",
        "    x_col=\"image_path\",  # Column name containing image paths\n",
        "    y_col=\"label\",       # Column name containing labels\n",
        "    target_size=(256, 256),  # Update with your desired image dimensions\n",
        "    batch_size=batch_size,\n",
        "    class_mode='binary'\n",
        ")\n",
        "\n",
        "test_generator = test_datagen.flow_from_dataframe(\n",
        "    dataframe=test_df,    # DataFrame containing paths and labels for testing images\n",
        "    x_col=\"image_path\",   # Column name containing image paths\n",
        "    y_col=\"label\",        # Column name containing labels\n",
        "    target_size=(256, 256),  # Update with your desired image dimensions\n",
        "    batch_size=batch_size,\n",
        "    class_mode='binary'\n",
        ")\n",
        "\n",
        "\n",
        "# Train the model\n",
        "history = model.fit(\n",
        "    train_generator,\n",
        "    steps_per_epoch=train_generator.samples // batch_size,\n",
        "    epochs=epochs,\n",
        "    validation_data=test_generator,\n",
        "    validation_steps=test_generator.samples // batch_size\n",
        ")\n"
      ],
      "metadata": {
        "colab": {
          "base_uri": "https://localhost:8080/"
        },
        "id": "YMkpJTN7kNvF",
        "outputId": "3a096089-a2a3-4aaa-ac10-a13e318c7fe3"
      },
      "execution_count": null,
      "outputs": [
        {
          "output_type": "stream",
          "name": "stdout",
          "text": [
            "Found 1980 validated image filenames belonging to 2 classes.\n",
            "Found 495 validated image filenames belonging to 2 classes.\n",
            "Epoch 1/5\n",
            "61/61 [==============================] - 281s 5s/step - loss: 0.1552 - accuracy: 0.9476 - val_loss: 0.1197 - val_accuracy: 0.9583\n",
            "Epoch 2/5\n",
            "61/61 [==============================] - 281s 5s/step - loss: 0.0908 - accuracy: 0.9743 - val_loss: 0.1075 - val_accuracy: 0.9688\n",
            "Epoch 3/5\n",
            "61/61 [==============================] - 280s 5s/step - loss: 0.0702 - accuracy: 0.9764 - val_loss: 0.1237 - val_accuracy: 0.9583\n",
            "Epoch 4/5\n",
            "61/61 [==============================] - 278s 5s/step - loss: 0.0401 - accuracy: 0.9877 - val_loss: 0.3471 - val_accuracy: 0.8979\n",
            "Epoch 5/5\n",
            "61/61 [==============================] - 281s 5s/step - loss: 0.1807 - accuracy: 0.9389 - val_loss: 0.1890 - val_accuracy: 0.9312\n"
          ]
        }
      ]
    },
    {
      "cell_type": "code",
      "source": [
        "# Evaluate the model\n",
        "loss, accuracy = model.evaluate(test_generator)\n",
        "print(\"Test Loss:\", loss)\n",
        "print(\"Test Accuracy:\", accuracy)\n"
      ],
      "metadata": {
        "colab": {
          "base_uri": "https://localhost:8080/"
        },
        "id": "nwKMDePiz5wy",
        "outputId": "a610ec9d-da26-40ae-f610-2902ed163895"
      },
      "execution_count": null,
      "outputs": [
        {
          "output_type": "stream",
          "name": "stdout",
          "text": [
            "16/16 [==============================] - 20s 1s/step - loss: 0.1841 - accuracy: 0.9333\n",
            "Test Loss: 0.18410423398017883\n",
            "Test Accuracy: 0.9333333373069763\n"
          ]
        }
      ]
    },
    {
      "cell_type": "code",
      "source": [
        "# Make predictions\n",
        "predictions = model.predict(test_generator)\n"
      ],
      "metadata": {
        "colab": {
          "base_uri": "https://localhost:8080/"
        },
        "id": "pinmxA6o0HH-",
        "outputId": "ae6fe5c4-7a3e-41c0-91bf-1d80602a3f39"
      },
      "execution_count": null,
      "outputs": [
        {
          "output_type": "stream",
          "name": "stdout",
          "text": [
            "16/16 [==============================] - 21s 1s/step\n"
          ]
        }
      ]
    },
    {
      "cell_type": "code",
      "source": [
        "from sklearn.metrics import classification_report, confusion_matrix\n",
        "\n",
        "# Convert predictions to binary values\n",
        "predicted_classes = (predictions > 0.5).astype(int)\n",
        "\n",
        "# Print classification report\n",
        "#print(classification_report(test_generator.classes, predicted_classes))\n",
        "\n",
        "# Print confusion matrix\n",
        "#print(confusion_matrix(test_generator.classes, predicted_classes))\n"
      ],
      "metadata": {
        "id": "DV4UaAXV0Wb6"
      },
      "execution_count": null,
      "outputs": []
    },
    {
      "cell_type": "code",
      "source": [
        "# Save the model\n",
        "model.save(\"my_model.h5\")\n"
      ],
      "metadata": {
        "id": "S6g2po7_02BM"
      },
      "execution_count": null,
      "outputs": []
    },
    {
      "cell_type": "code",
      "source": [
        "import tensorflow as tf\n",
        "from tensorflow.keras.preprocessing import image\n",
        "import numpy as np\n",
        "\n",
        "# Load the trained model\n",
        "model = tf.keras.models.load_model(\"my_model.h5\")  # Update with the path to your saved model\n",
        "\n",
        "# Load the sample image\n",
        "img_path = \"/content/0a64655c-4052-4e5f-a696-2a6cf25d10c9___GCREC_Bact.Sp 6017.JPG\"  # Update with the path to your sample image\n",
        "img = image.load_img(img_path, target_size=(256, 256))  # Update target_size according to your model\n",
        "\n",
        "# Preprocess the image\n",
        "img_array = image.img_to_array(img)\n",
        "img_array = np.expand_dims(img_array, axis=0)\n",
        "img_array = img_array / 255.0  # Normalize the pixel values\n",
        "\n",
        "# Make predictions\n",
        "predictions = model.predict(img_array)\n",
        "\n",
        "# Interpret the results\n",
        "predicted_class = \"infected\" if predictions[0][0] > 0.7 else \"healthy\"\n",
        "print(\"The image contains\", predicted_class, \"pepper bell leaves.\")\n"
      ],
      "metadata": {
        "colab": {
          "base_uri": "https://localhost:8080/"
        },
        "id": "u_8C6JSp5Niu",
        "outputId": "4ba0a51f-f41f-4cff-e88c-351f8853283b"
      },
      "execution_count": null,
      "outputs": [
        {
          "output_type": "stream",
          "name": "stdout",
          "text": [
            "1/1 [==============================] - 0s 125ms/step\n",
            "The image contains infected pepper bell leaves.\n"
          ]
        }
      ]
    },
    {
      "cell_type": "code",
      "source": [],
      "metadata": {
        "id": "Jtn1IN9Z83VR"
      },
      "execution_count": null,
      "outputs": []
    }
  ]
}